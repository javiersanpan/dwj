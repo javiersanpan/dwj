{
 "cells": [
  {
   "cell_type": "markdown",
   "id": "87c780a4-7290-450b-a6a3-8f38a9180077",
   "metadata": {},
   "source": [
    "# Actividad 3\n",
    "+ Francisco Javier Sanchez Panduro - A01639832\n",
    "+ Estefania Perez Yeo - A01639270"
   ]
  },
  {
   "cell_type": "code",
   "execution_count": 22,
   "id": "d690ed6a-691d-47fb-b0cd-33c69a960755",
   "metadata": {},
   "outputs": [],
   "source": [
    "import pandas as pd\n",
    "import matplotlib.pyplot as plt"
   ]
  },
  {
   "cell_type": "code",
   "execution_count": 23,
   "id": "86747dc4-61a1-428a-88ad-2d4da6bab02f",
   "metadata": {},
   "outputs": [],
   "source": [
    "raw_data = pd.read_csv('dow_jones_index.data', index_col=[0])"
   ]
  },
  {
   "cell_type": "code",
   "execution_count": 24,
   "id": "36262b18-14a1-435e-ba9c-d9a01862fb98",
   "metadata": {},
   "outputs": [
    {
     "data": {
      "text/html": [
       "<div>\n",
       "<style scoped>\n",
       "    .dataframe tbody tr th:only-of-type {\n",
       "        vertical-align: middle;\n",
       "    }\n",
       "\n",
       "    .dataframe tbody tr th {\n",
       "        vertical-align: top;\n",
       "    }\n",
       "\n",
       "    .dataframe thead th {\n",
       "        text-align: right;\n",
       "    }\n",
       "</style>\n",
       "<table border=\"1\" class=\"dataframe\">\n",
       "  <thead>\n",
       "    <tr style=\"text-align: right;\">\n",
       "      <th></th>\n",
       "      <th>stock</th>\n",
       "      <th>date</th>\n",
       "      <th>open</th>\n",
       "      <th>high</th>\n",
       "      <th>low</th>\n",
       "      <th>close</th>\n",
       "      <th>volume</th>\n",
       "      <th>percent_change_price</th>\n",
       "      <th>percent_change_volume_over_last_wk</th>\n",
       "      <th>previous_weeks_volume</th>\n",
       "      <th>next_weeks_open</th>\n",
       "      <th>next_weeks_close</th>\n",
       "      <th>percent_change_next_weeks_price</th>\n",
       "      <th>days_to_next_dividend</th>\n",
       "      <th>percent_return_next_dividend</th>\n",
       "    </tr>\n",
       "    <tr>\n",
       "      <th>quarter</th>\n",
       "      <th></th>\n",
       "      <th></th>\n",
       "      <th></th>\n",
       "      <th></th>\n",
       "      <th></th>\n",
       "      <th></th>\n",
       "      <th></th>\n",
       "      <th></th>\n",
       "      <th></th>\n",
       "      <th></th>\n",
       "      <th></th>\n",
       "      <th></th>\n",
       "      <th></th>\n",
       "      <th></th>\n",
       "      <th></th>\n",
       "    </tr>\n",
       "  </thead>\n",
       "  <tbody>\n",
       "    <tr>\n",
       "      <th>1</th>\n",
       "      <td>AA</td>\n",
       "      <td>1/7/2011</td>\n",
       "      <td>$15.82</td>\n",
       "      <td>$16.72</td>\n",
       "      <td>$15.78</td>\n",
       "      <td>$16.42</td>\n",
       "      <td>239655616</td>\n",
       "      <td>3.79267</td>\n",
       "      <td>NaN</td>\n",
       "      <td>NaN</td>\n",
       "      <td>$16.71</td>\n",
       "      <td>$15.97</td>\n",
       "      <td>-4.428490</td>\n",
       "      <td>26</td>\n",
       "      <td>0.182704</td>\n",
       "    </tr>\n",
       "    <tr>\n",
       "      <th>1</th>\n",
       "      <td>AA</td>\n",
       "      <td>1/14/2011</td>\n",
       "      <td>$16.71</td>\n",
       "      <td>$16.71</td>\n",
       "      <td>$15.64</td>\n",
       "      <td>$15.97</td>\n",
       "      <td>242963398</td>\n",
       "      <td>-4.42849</td>\n",
       "      <td>1.380223</td>\n",
       "      <td>239655616.0</td>\n",
       "      <td>$16.19</td>\n",
       "      <td>$15.79</td>\n",
       "      <td>-2.470660</td>\n",
       "      <td>19</td>\n",
       "      <td>0.187852</td>\n",
       "    </tr>\n",
       "    <tr>\n",
       "      <th>1</th>\n",
       "      <td>AA</td>\n",
       "      <td>1/21/2011</td>\n",
       "      <td>$16.19</td>\n",
       "      <td>$16.38</td>\n",
       "      <td>$15.60</td>\n",
       "      <td>$15.79</td>\n",
       "      <td>138428495</td>\n",
       "      <td>-2.47066</td>\n",
       "      <td>-43.024959</td>\n",
       "      <td>242963398.0</td>\n",
       "      <td>$15.87</td>\n",
       "      <td>$16.13</td>\n",
       "      <td>1.638310</td>\n",
       "      <td>12</td>\n",
       "      <td>0.189994</td>\n",
       "    </tr>\n",
       "    <tr>\n",
       "      <th>1</th>\n",
       "      <td>AA</td>\n",
       "      <td>1/28/2011</td>\n",
       "      <td>$15.87</td>\n",
       "      <td>$16.63</td>\n",
       "      <td>$15.82</td>\n",
       "      <td>$16.13</td>\n",
       "      <td>151379173</td>\n",
       "      <td>1.63831</td>\n",
       "      <td>9.355500</td>\n",
       "      <td>138428495.0</td>\n",
       "      <td>$16.18</td>\n",
       "      <td>$17.14</td>\n",
       "      <td>5.933250</td>\n",
       "      <td>5</td>\n",
       "      <td>0.185989</td>\n",
       "    </tr>\n",
       "    <tr>\n",
       "      <th>1</th>\n",
       "      <td>AA</td>\n",
       "      <td>2/4/2011</td>\n",
       "      <td>$16.18</td>\n",
       "      <td>$17.39</td>\n",
       "      <td>$16.18</td>\n",
       "      <td>$17.14</td>\n",
       "      <td>154387761</td>\n",
       "      <td>5.93325</td>\n",
       "      <td>1.987452</td>\n",
       "      <td>151379173.0</td>\n",
       "      <td>$17.33</td>\n",
       "      <td>$17.37</td>\n",
       "      <td>0.230814</td>\n",
       "      <td>97</td>\n",
       "      <td>0.175029</td>\n",
       "    </tr>\n",
       "  </tbody>\n",
       "</table>\n",
       "</div>"
      ],
      "text/plain": [
       "        stock       date    open    high     low   close     volume  \\\n",
       "quarter                                                               \n",
       "1          AA   1/7/2011  $15.82  $16.72  $15.78  $16.42  239655616   \n",
       "1          AA  1/14/2011  $16.71  $16.71  $15.64  $15.97  242963398   \n",
       "1          AA  1/21/2011  $16.19  $16.38  $15.60  $15.79  138428495   \n",
       "1          AA  1/28/2011  $15.87  $16.63  $15.82  $16.13  151379173   \n",
       "1          AA   2/4/2011  $16.18  $17.39  $16.18  $17.14  154387761   \n",
       "\n",
       "         percent_change_price  percent_change_volume_over_last_wk  \\\n",
       "quarter                                                             \n",
       "1                     3.79267                                 NaN   \n",
       "1                    -4.42849                            1.380223   \n",
       "1                    -2.47066                          -43.024959   \n",
       "1                     1.63831                            9.355500   \n",
       "1                     5.93325                            1.987452   \n",
       "\n",
       "         previous_weeks_volume next_weeks_open next_weeks_close  \\\n",
       "quarter                                                           \n",
       "1                          NaN          $16.71           $15.97   \n",
       "1                  239655616.0          $16.19           $15.79   \n",
       "1                  242963398.0          $15.87           $16.13   \n",
       "1                  138428495.0          $16.18           $17.14   \n",
       "1                  151379173.0          $17.33           $17.37   \n",
       "\n",
       "         percent_change_next_weeks_price  days_to_next_dividend  \\\n",
       "quarter                                                           \n",
       "1                              -4.428490                     26   \n",
       "1                              -2.470660                     19   \n",
       "1                               1.638310                     12   \n",
       "1                               5.933250                      5   \n",
       "1                               0.230814                     97   \n",
       "\n",
       "         percent_return_next_dividend  \n",
       "quarter                                \n",
       "1                            0.182704  \n",
       "1                            0.187852  \n",
       "1                            0.189994  \n",
       "1                            0.185989  \n",
       "1                            0.175029  "
      ]
     },
     "execution_count": 24,
     "metadata": {},
     "output_type": "execute_result"
    }
   ],
   "source": [
    "raw_data.head()"
   ]
  },
  {
   "cell_type": "code",
   "execution_count": 25,
   "id": "dbba2264-8c05-4185-a24f-17b6c25a9d20",
   "metadata": {},
   "outputs": [],
   "source": [
    "clean_df = raw_data[['date', 'high', 'low', 'volume', 'percent_change_price']].copy()"
   ]
  },
  {
   "cell_type": "code",
   "execution_count": 26,
   "id": "63735ad7-ef1d-4239-9ff1-c3879b48176b",
   "metadata": {},
   "outputs": [],
   "source": [
    "formatted_date = pd.to_datetime(clean_df['date'])\n",
    "clean_df['date'] = formatted_date"
   ]
  },
  {
   "cell_type": "code",
   "execution_count": 27,
   "id": "fa6966ec-929d-43c9-8584-6739ddb67477",
   "metadata": {},
   "outputs": [
    {
     "data": {
      "text/html": [
       "<div>\n",
       "<style scoped>\n",
       "    .dataframe tbody tr th:only-of-type {\n",
       "        vertical-align: middle;\n",
       "    }\n",
       "\n",
       "    .dataframe tbody tr th {\n",
       "        vertical-align: top;\n",
       "    }\n",
       "\n",
       "    .dataframe thead th {\n",
       "        text-align: right;\n",
       "    }\n",
       "</style>\n",
       "<table border=\"1\" class=\"dataframe\">\n",
       "  <thead>\n",
       "    <tr style=\"text-align: right;\">\n",
       "      <th></th>\n",
       "      <th>date</th>\n",
       "      <th>high</th>\n",
       "      <th>low</th>\n",
       "      <th>volume</th>\n",
       "      <th>percent_change_price</th>\n",
       "    </tr>\n",
       "    <tr>\n",
       "      <th>quarter</th>\n",
       "      <th></th>\n",
       "      <th></th>\n",
       "      <th></th>\n",
       "      <th></th>\n",
       "      <th></th>\n",
       "    </tr>\n",
       "  </thead>\n",
       "  <tbody>\n",
       "    <tr>\n",
       "      <th>1</th>\n",
       "      <td>2011-01-07</td>\n",
       "      <td>$16.72</td>\n",
       "      <td>$15.78</td>\n",
       "      <td>239655616</td>\n",
       "      <td>3.79267</td>\n",
       "    </tr>\n",
       "    <tr>\n",
       "      <th>1</th>\n",
       "      <td>2011-01-14</td>\n",
       "      <td>$16.71</td>\n",
       "      <td>$15.64</td>\n",
       "      <td>242963398</td>\n",
       "      <td>-4.42849</td>\n",
       "    </tr>\n",
       "    <tr>\n",
       "      <th>1</th>\n",
       "      <td>2011-01-21</td>\n",
       "      <td>$16.38</td>\n",
       "      <td>$15.60</td>\n",
       "      <td>138428495</td>\n",
       "      <td>-2.47066</td>\n",
       "    </tr>\n",
       "    <tr>\n",
       "      <th>1</th>\n",
       "      <td>2011-01-28</td>\n",
       "      <td>$16.63</td>\n",
       "      <td>$15.82</td>\n",
       "      <td>151379173</td>\n",
       "      <td>1.63831</td>\n",
       "    </tr>\n",
       "    <tr>\n",
       "      <th>1</th>\n",
       "      <td>2011-02-04</td>\n",
       "      <td>$17.39</td>\n",
       "      <td>$16.18</td>\n",
       "      <td>154387761</td>\n",
       "      <td>5.93325</td>\n",
       "    </tr>\n",
       "  </tbody>\n",
       "</table>\n",
       "</div>"
      ],
      "text/plain": [
       "              date    high     low     volume  percent_change_price\n",
       "quarter                                                            \n",
       "1       2011-01-07  $16.72  $15.78  239655616               3.79267\n",
       "1       2011-01-14  $16.71  $15.64  242963398              -4.42849\n",
       "1       2011-01-21  $16.38  $15.60  138428495              -2.47066\n",
       "1       2011-01-28  $16.63  $15.82  151379173               1.63831\n",
       "1       2011-02-04  $17.39  $16.18  154387761               5.93325"
      ]
     },
     "execution_count": 27,
     "metadata": {},
     "output_type": "execute_result"
    }
   ],
   "source": [
    "clean_df.head()"
   ]
  },
  {
   "cell_type": "code",
   "execution_count": 28,
   "id": "848a964e-3aa0-47e1-bb5d-35999fde2322",
   "metadata": {},
   "outputs": [],
   "source": [
    "clean_df = clean_df.set_index(['date'])"
   ]
  },
  {
   "cell_type": "code",
   "execution_count": 29,
   "id": "9003f0ea-6501-4be6-a456-1d9af3ecf6a6",
   "metadata": {},
   "outputs": [
    {
     "data": {
      "text/html": [
       "<div>\n",
       "<style scoped>\n",
       "    .dataframe tbody tr th:only-of-type {\n",
       "        vertical-align: middle;\n",
       "    }\n",
       "\n",
       "    .dataframe tbody tr th {\n",
       "        vertical-align: top;\n",
       "    }\n",
       "\n",
       "    .dataframe thead th {\n",
       "        text-align: right;\n",
       "    }\n",
       "</style>\n",
       "<table border=\"1\" class=\"dataframe\">\n",
       "  <thead>\n",
       "    <tr style=\"text-align: right;\">\n",
       "      <th></th>\n",
       "      <th>high</th>\n",
       "      <th>low</th>\n",
       "      <th>volume</th>\n",
       "      <th>percent_change_price</th>\n",
       "    </tr>\n",
       "    <tr>\n",
       "      <th>date</th>\n",
       "      <th></th>\n",
       "      <th></th>\n",
       "      <th></th>\n",
       "      <th></th>\n",
       "    </tr>\n",
       "  </thead>\n",
       "  <tbody>\n",
       "    <tr>\n",
       "      <th>2011-01-07</th>\n",
       "      <td>$16.72</td>\n",
       "      <td>$15.78</td>\n",
       "      <td>239655616</td>\n",
       "      <td>3.79267</td>\n",
       "    </tr>\n",
       "    <tr>\n",
       "      <th>2011-01-14</th>\n",
       "      <td>$16.71</td>\n",
       "      <td>$15.64</td>\n",
       "      <td>242963398</td>\n",
       "      <td>-4.42849</td>\n",
       "    </tr>\n",
       "    <tr>\n",
       "      <th>2011-01-21</th>\n",
       "      <td>$16.38</td>\n",
       "      <td>$15.60</td>\n",
       "      <td>138428495</td>\n",
       "      <td>-2.47066</td>\n",
       "    </tr>\n",
       "    <tr>\n",
       "      <th>2011-01-28</th>\n",
       "      <td>$16.63</td>\n",
       "      <td>$15.82</td>\n",
       "      <td>151379173</td>\n",
       "      <td>1.63831</td>\n",
       "    </tr>\n",
       "    <tr>\n",
       "      <th>2011-02-04</th>\n",
       "      <td>$17.39</td>\n",
       "      <td>$16.18</td>\n",
       "      <td>154387761</td>\n",
       "      <td>5.93325</td>\n",
       "    </tr>\n",
       "  </tbody>\n",
       "</table>\n",
       "</div>"
      ],
      "text/plain": [
       "              high     low     volume  percent_change_price\n",
       "date                                                       \n",
       "2011-01-07  $16.72  $15.78  239655616               3.79267\n",
       "2011-01-14  $16.71  $15.64  242963398              -4.42849\n",
       "2011-01-21  $16.38  $15.60  138428495              -2.47066\n",
       "2011-01-28  $16.63  $15.82  151379173               1.63831\n",
       "2011-02-04  $17.39  $16.18  154387761               5.93325"
      ]
     },
     "execution_count": 29,
     "metadata": {},
     "output_type": "execute_result"
    }
   ],
   "source": [
    "clean_df.head()"
   ]
  },
  {
   "cell_type": "code",
   "execution_count": 30,
   "id": "df57634b-7bb2-496a-b1ab-707d7ba45bd3",
   "metadata": {},
   "outputs": [],
   "source": [
    "high_list = []\n",
    "for i in clean_df['high']:\n",
    "    high_list.append(i[1:])"
   ]
  },
  {
   "cell_type": "code",
   "execution_count": 31,
   "id": "8071927c-2630-40fb-a9be-03b67cb00ce6",
   "metadata": {},
   "outputs": [],
   "source": [
    "low_list = []\n",
    "for i in clean_df['low']:\n",
    "    low_list.append(i[1:])"
   ]
  },
  {
   "cell_type": "code",
   "execution_count": 32,
   "id": "a9b198f6-06df-499d-af0c-22396c9cb58a",
   "metadata": {},
   "outputs": [],
   "source": [
    "df = clean_df"
   ]
  },
  {
   "cell_type": "code",
   "execution_count": 33,
   "id": "3359ea07-4e50-4c86-867e-f68a6a6fbf15",
   "metadata": {},
   "outputs": [],
   "source": [
    "df['high'] = high_list"
   ]
  },
  {
   "cell_type": "code",
   "execution_count": 34,
   "id": "8a21d9b4-e7f9-47fc-ba3a-5d87a3112fe0",
   "metadata": {},
   "outputs": [],
   "source": [
    "df['low'] = low_list"
   ]
  },
  {
   "cell_type": "code",
   "execution_count": 35,
   "id": "62815036-41e7-4f7f-9dae-0dddd27b5f04",
   "metadata": {},
   "outputs": [],
   "source": [
    "df['high'] = pd.to_numeric(df['high'])\n",
    "df['low'] = pd.to_numeric(df['low'])"
   ]
  },
  {
   "cell_type": "code",
   "execution_count": 36,
   "id": "c5a842a1-09ce-4418-9de4-a2ef52ab774f",
   "metadata": {},
   "outputs": [
    {
     "data": {
      "text/html": [
       "<div>\n",
       "<style scoped>\n",
       "    .dataframe tbody tr th:only-of-type {\n",
       "        vertical-align: middle;\n",
       "    }\n",
       "\n",
       "    .dataframe tbody tr th {\n",
       "        vertical-align: top;\n",
       "    }\n",
       "\n",
       "    .dataframe thead th {\n",
       "        text-align: right;\n",
       "    }\n",
       "</style>\n",
       "<table border=\"1\" class=\"dataframe\">\n",
       "  <thead>\n",
       "    <tr style=\"text-align: right;\">\n",
       "      <th></th>\n",
       "      <th>high</th>\n",
       "      <th>low</th>\n",
       "      <th>volume</th>\n",
       "      <th>percent_change_price</th>\n",
       "    </tr>\n",
       "    <tr>\n",
       "      <th>date</th>\n",
       "      <th></th>\n",
       "      <th></th>\n",
       "      <th></th>\n",
       "      <th></th>\n",
       "    </tr>\n",
       "  </thead>\n",
       "  <tbody>\n",
       "    <tr>\n",
       "      <th>2011-01-07</th>\n",
       "      <td>16.72</td>\n",
       "      <td>15.78</td>\n",
       "      <td>239655616</td>\n",
       "      <td>3.792670</td>\n",
       "    </tr>\n",
       "    <tr>\n",
       "      <th>2011-01-07</th>\n",
       "      <td>30.10</td>\n",
       "      <td>28.66</td>\n",
       "      <td>157834347</td>\n",
       "      <td>-2.796500</td>\n",
       "    </tr>\n",
       "    <tr>\n",
       "      <th>2011-01-07</th>\n",
       "      <td>14.69</td>\n",
       "      <td>13.80</td>\n",
       "      <td>1453438639</td>\n",
       "      <td>2.888090</td>\n",
       "    </tr>\n",
       "    <tr>\n",
       "      <th>2011-01-07</th>\n",
       "      <td>65.08</td>\n",
       "      <td>64.00</td>\n",
       "      <td>52323352</td>\n",
       "      <td>0.170834</td>\n",
       "    </tr>\n",
       "    <tr>\n",
       "      <th>2011-01-07</th>\n",
       "      <td>18.38</td>\n",
       "      <td>17.62</td>\n",
       "      <td>386804789</td>\n",
       "      <td>3.615820</td>\n",
       "    </tr>\n",
       "    <tr>\n",
       "      <th>...</th>\n",
       "      <td>...</td>\n",
       "      <td>...</td>\n",
       "      <td>...</td>\n",
       "      <td>...</td>\n",
       "    </tr>\n",
       "    <tr>\n",
       "      <th>2011-06-24</th>\n",
       "      <td>15.64</td>\n",
       "      <td>14.92</td>\n",
       "      <td>429730443</td>\n",
       "      <td>-0.066934</td>\n",
       "    </tr>\n",
       "    <tr>\n",
       "      <th>2011-06-24</th>\n",
       "      <td>50.15</td>\n",
       "      <td>48.15</td>\n",
       "      <td>34877916</td>\n",
       "      <td>-0.020682</td>\n",
       "    </tr>\n",
       "    <tr>\n",
       "      <th>2011-06-24</th>\n",
       "      <td>102.50</td>\n",
       "      <td>96.05</td>\n",
       "      <td>43722864</td>\n",
       "      <td>3.648050</td>\n",
       "    </tr>\n",
       "    <tr>\n",
       "      <th>2011-06-24</th>\n",
       "      <td>35.97</td>\n",
       "      <td>34.50</td>\n",
       "      <td>63163236</td>\n",
       "      <td>-2.096910</td>\n",
       "    </tr>\n",
       "    <tr>\n",
       "      <th>2011-06-24</th>\n",
       "      <td>81.12</td>\n",
       "      <td>76.78</td>\n",
       "      <td>118679791</td>\n",
       "      <td>-2.377620</td>\n",
       "    </tr>\n",
       "  </tbody>\n",
       "</table>\n",
       "<p>750 rows × 4 columns</p>\n",
       "</div>"
      ],
      "text/plain": [
       "              high    low      volume  percent_change_price\n",
       "date                                                       \n",
       "2011-01-07   16.72  15.78   239655616              3.792670\n",
       "2011-01-07   30.10  28.66   157834347             -2.796500\n",
       "2011-01-07   14.69  13.80  1453438639              2.888090\n",
       "2011-01-07   65.08  64.00    52323352              0.170834\n",
       "2011-01-07   18.38  17.62   386804789              3.615820\n",
       "...            ...    ...         ...                   ...\n",
       "2011-06-24   15.64  14.92   429730443             -0.066934\n",
       "2011-06-24   50.15  48.15    34877916             -0.020682\n",
       "2011-06-24  102.50  96.05    43722864              3.648050\n",
       "2011-06-24   35.97  34.50    63163236             -2.096910\n",
       "2011-06-24   81.12  76.78   118679791             -2.377620\n",
       "\n",
       "[750 rows x 4 columns]"
      ]
     },
     "execution_count": 36,
     "metadata": {},
     "output_type": "execute_result"
    }
   ],
   "source": [
    "df.sort_index(ascending = True)"
   ]
  },
  {
   "cell_type": "markdown",
   "id": "32ebde77-32da-4ca2-9306-769cd4ae126f",
   "metadata": {},
   "source": [
    "## Mean"
   ]
  },
  {
   "cell_type": "code",
   "execution_count": 37,
   "id": "44ed6347-ded4-4b49-90c8-01c98bf2801b",
   "metadata": {},
   "outputs": [],
   "source": [
    "daily_mean = df.groupby(df.index).mean()"
   ]
  },
  {
   "cell_type": "code",
   "execution_count": 38,
   "id": "4ee7ce0c-b929-4d36-86e7-a6a1de2f9633",
   "metadata": {},
   "outputs": [
    {
     "name": "stdout",
     "output_type": "stream",
     "text": [
      "                 high        low        volume  percent_change_price\n",
      "date                                                                \n",
      "2011-01-07  52.394333  50.535000  1.641992e+08              0.533190\n",
      "2011-01-14  52.315333  50.572000  1.090246e+08              1.322282\n",
      "2011-01-21  52.934333  51.229333  1.223585e+08              0.156960\n",
      "2011-01-28  53.713667  51.400333  1.507353e+08             -0.597219\n",
      "2011-02-04  53.592333  51.746333  1.199585e+08              2.099038\n"
     ]
    }
   ],
   "source": [
    "print(daily_mean.head())"
   ]
  },
  {
   "cell_type": "code",
   "execution_count": 47,
   "id": "996ac070-08fb-4e90-a06d-4729b078fdee",
   "metadata": {},
   "outputs": [
    {
     "data": {
      "image/png": "[encoded data removed]",
      "text/plain": [
       "<Figure size 2500x600 with 1 Axes>"
      ]
     },
     "metadata": {},
     "output_type": "display_data"
    }
   ],
   "source": [
    "fig = plt.figure(figsize=(25, 6))\n",
    "\n",
    "plt.title('Promedio del volumen a través del tiempo')\n",
    "plt.plot(daily_mean.index, daily_mean['volume'], 'bo-')\n",
    "plt.grid()\n",
    "plt.show()"
   ]
  },
  {
   "cell_type": "code",
   "execution_count": 40,
   "id": "288cb6b5-43d0-4767-9fac-c43f3951955a",
   "metadata": {},
   "outputs": [
    {
     "name": "stdout",
     "output_type": "stream",
     "text": [
      "T-test (Test Statistic):  -7.579645819460243 In\n",
      "P-value:  2.7031912220007216e-11 \n",
      "\n",
      "Valores criticos (Critical Value):  {'1%': -3.43912257105195, '5%': -2.8654117005229844, '10%': -2.568831705010152}\n"
     ]
    }
   ],
   "source": [
    "from statsmodels.tsa.stattools import adfuller\n",
    "adf = adfuller (df[\"volume\"], maxlag = 1)\n",
    "print(\"T-test (Test Statistic): \", adf[0], \"In\")\n",
    "print(\"P-value: \", adf[1], \"\\n\")\n",
    "print(\"Valores criticos (Critical Value): \", adf[4])"
   ]
  },
  {
   "cell_type": "markdown",
   "id": "d2deafdb-a01d-4a45-a44e-ee8dad09a4cc",
   "metadata": {},
   "source": [
    "## Max"
   ]
  },
  {
   "cell_type": "code",
   "execution_count": 41,
   "id": "612f2106-b33f-4c27-b4b7-898670973bb1",
   "metadata": {},
   "outputs": [],
   "source": [
    "daily_max = df.groupby(df.index).max()"
   ]
  },
  {
   "cell_type": "code",
   "execution_count": 43,
   "id": "2a970f21-b26f-4f2b-8d24-a8a21b6b8237",
   "metadata": {},
   "outputs": [
    {
     "name": "stdout",
     "output_type": "stream",
     "text": [
      "              high     low      volume  percent_change_price\n",
      "date                                                        \n",
      "2011-01-07  148.86  146.64  1453438639               6.79773\n",
      "2011-01-14  150.00  146.00   760935694               7.62174\n",
      "2011-01-21  156.78  149.38   982445809               4.00421\n",
      "2011-01-28  164.35  155.33  1054415375               3.81916\n",
      "2011-02-04  164.20  158.68   757192224               6.10225\n"
     ]
    }
   ],
   "source": [
    "print(daily_max.head())"
   ]
  },
  {
   "cell_type": "code",
   "execution_count": 46,
   "id": "e5a6f77f-93d9-4131-ac41-dc3c7c8ffe5f",
   "metadata": {},
   "outputs": [
    {
     "data": {
      "image/png": "[encoded data removed]",
      "text/plain": [
       "<Figure size 2500x600 with 1 Axes>"
      ]
     },
     "metadata": {},
     "output_type": "display_data"
    }
   ],
   "source": [
    "fig = plt.figure(figsize=(25, 6))\n",
    "\n",
    "plt.title('Valor máximo del volumen a través del tiempo')\n",
    "plt.plot(daily_mean.index, daily_max['volume'], 'ro-')\n",
    "plt.grid()\n",
    "plt.show()"
   ]
  },
  {
   "cell_type": "code",
   "execution_count": null,
   "id": "8d084f11-e845-4f8d-a5e8-1fdcfffaa1e1",
   "metadata": {},
   "outputs": [],
   "source": []
  }
 ],
 "metadata": {
  "kernelspec": {
   "display_name": "Python 3 (ipykernel)",
   "language": "python",
   "name": "python3"
  },
  "language_info": {
   "codemirror_mode": {
    "name": "ipython",
    "version": 3
   },
   "file_extension": ".py",
   "mimetype": "text/x-python",
   "name": "python",
   "nbconvert_exporter": "python",
   "pygments_lexer": "ipython3",
   "version": "3.9.13"
  }
 },
 "nbformat": 4,
 "nbformat_minor": 5
}
